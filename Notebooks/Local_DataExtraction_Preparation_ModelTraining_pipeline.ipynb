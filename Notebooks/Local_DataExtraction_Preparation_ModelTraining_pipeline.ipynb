{
 "cells": [
  {
   "cell_type": "markdown",
   "id": "4378b509",
   "metadata": {},
   "source": [
    "# Local notebook to test the pipeline locally"
   ]
  },
  {
   "cell_type": "code",
   "execution_count": null,
   "outputs": [],
   "source": [
    "%load_ext autoreload\n",
    "%autoreload 2"
   ],
   "metadata": {
    "collapsed": false
   }
  },
  {
   "cell_type": "code",
   "execution_count": null,
   "outputs": [],
   "source": [
    "## Change working directory\n",
    "import os\n",
    "\n",
    "os.environ[\"GIT_PYTHON_REFRESH\"] = \"quiet\"\n",
    "import git\n",
    "\n",
    "repo = git.Repo(os.getcwd(), search_parent_directories=True)\n",
    "os.chdir(repo.working_tree_dir)\n",
    "\n",
    "print(os.getcwd())"
   ],
   "metadata": {
    "collapsed": false
   }
  },
  {
   "cell_type": "markdown",
   "id": "bbc52d4c",
   "metadata": {},
   "source": [
    "\n",
    "## Pipeline Parameters"
   ]
  },
  {
   "cell_type": "code",
   "execution_count": null,
   "id": "ade03911",
   "metadata": {},
   "outputs": [],
   "source": [
    "target_feat_param = 'count'\n",
    "# DataSplitter params\n",
    "test_size_param = 0.25\n",
    "random_state_param = 1\n",
    "targer_feat = 'count'\n",
    "\n",
    "# PipelineTrainer params\n",
    "method_missing_value = 'mean'\n",
    "categorical_class_minimum_occurrences_param = 500\n",
    "model_params_param = {\"n_estimators\": 100}"
   ]
  },
  {
   "cell_type": "markdown",
   "id": "ddcaaa09",
   "metadata": {},
   "source": [
    "## Import the data\n"
   ]
  },
  {
   "cell_type": "code",
   "execution_count": null,
   "outputs": [],
   "source": [
    "from Components.DataPreparation.DataFetcher.DataFetcher import DataFetcher\n",
    "\n",
    "df = DataFetcher.execute(input_dataset_version='1',\n",
    "                         input_dataset_name='BikeSharingPredictionsHours',\n",
    "                         )\n",
    "df.head()"
   ],
   "metadata": {
    "collapsed": false
   }
  },
  {
   "cell_type": "markdown",
   "id": "0b144c99",
   "metadata": {},
   "source": [
    "_________________________________________"
   ]
  },
  {
   "cell_type": "markdown",
   "id": "e17000b2",
   "metadata": {},
   "source": [
    "### Data Transformer"
   ]
  },
  {
   "cell_type": "code",
   "execution_count": null,
   "id": "2e56143a",
   "metadata": {},
   "outputs": [],
   "source": [
    "from Components.DataPreparation.DataTransformer.DataTransformer import DataTransformer\n",
    "\n",
    "df_transformed = DataTransformer.execute(df.copy())\n",
    "df_transformed.head()"
   ]
  },
  {
   "cell_type": "markdown",
   "id": "21263917",
   "metadata": {},
   "source": [
    "### Data splitter"
   ]
  },
  {
   "cell_type": "code",
   "execution_count": null,
   "id": "08bb55cd",
   "metadata": {},
   "outputs": [],
   "source": [
    "from Components.Training.DataSplitter.DataSplitter import DataSplitter\n",
    "\n",
    "X_train, X_test, y_train, y_test = DataSplitter.execute(df=df_transformed,\n",
    "                                                        target_feat=target_feat_param,\n",
    "                                                        test_size=test_size_param,\n",
    "                                                        random_state=random_state_param,\n",
    "                                                        )"
   ]
  },
  {
   "cell_type": "markdown",
   "id": "302e9d79",
   "metadata": {},
   "source": [
    "### PipelineTrainer"
   ]
  },
  {
   "cell_type": "code",
   "execution_count": null,
   "id": "1e82ba3f",
   "metadata": {},
   "outputs": [],
   "source": [
    "from Components.Training.PipelineTrainer.PipelineTrainer import PipelineTrainer\n",
    "from pathlib import Path\n",
    "\n",
    "pipeline = PipelineTrainer.execute(X_train=X_train,\n",
    "                                   y_train=y_train,\n",
    "                                   method_missing_value='mean',\n",
    "                                   categorical_class_minimum_occurrences=categorical_class_minimum_occurrences_param,\n",
    "                                   model_params=model_params_param,\n",
    "                                   output_dir=Path('output_folder'),\n",
    "                                   )"
   ]
  },
  {
   "cell_type": "markdown",
   "id": "e3c6d030",
   "metadata": {},
   "source": [
    "\n",
    "### PipelineEvaluator"
   ]
  },
  {
   "cell_type": "code",
   "execution_count": null,
   "outputs": [],
   "source": [
    "import mlflow\n",
    "mlflow_pipeline = mlflow.pyfunc.load_model(str('output_folder'))\n",
    "pipeline = mlflow_pipeline._model_impl.python_model.model\n",
    "pipeline"
   ],
   "metadata": {
    "collapsed": false
   }
  },
  {
   "cell_type": "code",
   "execution_count": null,
   "id": "2ceb4aeb",
   "metadata": {},
   "outputs": [],
   "source": [
    "import pandas as pd\n",
    "\n",
    "from Components.Training.PipelineEvaluator.PipelineEvaluator import PipelineEvaluator\n",
    "\n",
    "metrics_test, df_results_test = PipelineEvaluator.execute(pipeline=pipeline,\n",
    "                                                          X_test=X_test,\n",
    "                                                          y_test=y_test,\n",
    "                                                          )\n",
    "\n",
    "pd.DataFrame([metrics_test]).T.round(3)"
   ]
  }
 ],
 "metadata": {
  "kernelspec": {
   "display_name": ".venv",
   "language": "python",
   "name": "python3"
  },
  "language_info": {
   "codemirror_mode": {
    "name": "ipython",
    "version": 3
   },
   "file_extension": ".py",
   "mimetype": "text/x-python",
   "name": "python",
   "nbconvert_exporter": "python",
   "pygments_lexer": "ipython3",
   "version": "3.8.11"
  }
 },
 "nbformat": 4,
 "nbformat_minor": 5
}
