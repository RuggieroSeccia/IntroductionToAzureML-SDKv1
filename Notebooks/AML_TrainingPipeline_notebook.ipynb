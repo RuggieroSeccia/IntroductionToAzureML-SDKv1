{
 "cells": [
  {
   "cell_type": "markdown",
   "id": "3c5de1e1",
   "metadata": {},
   "source": [
    "## ModelTrainingPipeline\n",
    "This notebook can be used to run the ModelTrainingPipeline"
   ]
  },
  {
   "cell_type": "code",
   "execution_count": null,
   "outputs": [],
   "source": [
    "your_name = \"RuggieroS\""
   ],
   "metadata": {
    "collapsed": false
   }
  },
  {
   "cell_type": "code",
   "execution_count": null,
   "id": "fe12487f",
   "metadata": {},
   "outputs": [],
   "source": [
    "import git\n",
    "import os\n",
    "os.environ[\"GIT_PYTHON_REFRESH\"] = \"quiet\"\n",
    "repo = git.Repo(os.getcwd(), search_parent_directories=True)\n",
    "\n",
    "os.chdir(repo.working_tree_dir)\n",
    "\n",
    "print(os.getcwd())"
   ]
  },
  {
   "cell_type": "code",
   "execution_count": null,
   "outputs": [],
   "source": [
    "from azureml.core.compute import ComputeTarget\n",
    "from azureml.core import Workspace, Experiment, Environment, RunConfiguration\n",
    "\n",
    "from Pipelines.AML_PipelinesFactory import AML_PipelinesFactory"
   ],
   "metadata": {
    "collapsed": false
   }
  },
  {
   "cell_type": "code",
   "execution_count": null,
   "id": "aa253ee8",
   "metadata": {
    "tags": []
   },
   "outputs": [],
   "source": [
    "# Define workspace\n",
    "workspace = Workspace.from_config()\n",
    "\n",
    "# Initialize run configuration\n",
    "run_config = RunConfiguration()\n",
    "\n",
    "# Define environment\n",
    "env = Environment.from_conda_specification(\n",
    "    \".venv\", \"./environment.yml\"\n",
    ")\n",
    "env.register(workspace)\n",
    "run_config.environment = env\n",
    "\n",
    "# Define compute target\n",
    "compute_target = ComputeTarget(workspace=workspace, name=\"EF-MLOPS-Course\")\n",
    "run_config.target = compute_target\n",
    "\n",
    "# Define datastore\n",
    "datastore = workspace.get_default_datastore()"
   ]
  },
  {
   "cell_type": "markdown",
   "id": "98a53bf3",
   "metadata": {},
   "source": [
    "## Define the pipeline"
   ]
  },
  {
   "cell_type": "code",
   "execution_count": null,
   "id": "1f32e7cb-7ce7-4db7-a082-2a52d7a2efd7",
   "metadata": {},
   "outputs": [],
   "source": [
    "pipeline = AML_PipelinesFactory.execute(pipeline_type=\"ModelTrainingPipeline\",\n",
    "                                        run_config=run_config,\n",
    "                                        datastore=datastore,\n",
    "                                        workspace=workspace,\n",
    "                                        allow_reuse_all_components=True)"
   ]
  },
  {
   "cell_type": "markdown",
   "id": "52915592",
   "metadata": {},
   "source": [
    "## Run the pipeline"
   ]
  },
  {
   "cell_type": "code",
   "execution_count": null,
   "id": "4d814773",
   "metadata": {
    "tags": []
   },
   "outputs": [],
   "source": [
    "pipeline_experiment = Experiment(workspace, f\"{your_name}_ModelTrainingPipeline\").submit(\n",
    "    pipeline,\n",
    "    tags={'war_time':False},\n",
    "    pipeline_parameters={\n",
    "        # DataFetcher\n",
    "        \"input_dataset_name\": \"BikeSharingPredictionsHours\",\n",
    "        \"target_feat\": \"count\",\n",
    "        # DataSplitter\n",
    "        \"test_size\": 0.25,\n",
    "        \"random_state_splitting\": 1,\n",
    "        # PipelineTrainer\n",
    "        \"method_missing_value\": \"mean\",\n",
    "        \"categorical_class_minimum_occurrences\": 0.25,\n",
    "        \"model_params\": \"{'n_estimators':100}\",\n",
    "        \"random_state_training\": 1,\n",
    "        # ModelPusher\n",
    "        \"model_name\": f\"{your_name}_Model-EF-MLOPS\",\n",
    "        \"skip_pushing_model\": False,\n",
    "    })\n",
    "pipeline_experiment.wait_for_completion()"
   ]
  },
  {
   "cell_type": "markdown",
   "source": [
    "## Fetching and processing results from an Azure Run"
   ],
   "metadata": {
    "collapsed": false
   }
  },
  {
   "cell_type": "code",
   "execution_count": null,
   "outputs": [],
   "source": [
    "from Notebooks.utils import fetch_uploaded_files_from_run\n",
    "import pandas as pd\n",
    "\n",
    "path_to_data = fetch_uploaded_files_from_run(run_id='368c596b-1f3f-4b22-a606-b1331826452f',\n",
    "                                           dir_data_to_fetch='ModelEvaluator_plots/df_results_test.pickle',\n",
    "                                           output_file_path='data\\output_folder_data')\n",
    "df_results_test = pd.read_pickle(path_to_data)\n",
    "df_results_test.head()"
   ],
   "metadata": {
    "collapsed": false
   }
  },
  {
   "cell_type": "code",
   "execution_count": null,
   "outputs": [],
   "source": [
    "# Example: run some analysis on the fetched data\n",
    "import plotly.express as px\n",
    "\n",
    "fig = px.box(df_results_test,\n",
    "             x='year',\n",
    "             y='prediction_error')\n",
    "fig.add_hline(0)"
   ],
   "metadata": {
    "collapsed": false
   }
  },
  {
   "cell_type": "code",
   "execution_count": null,
   "outputs": [],
   "source": [
    "# example on how to fetch files in output from a step\n",
    "from Notebooks.utils import fetch_output_from_run_id\n",
    "\n",
    "model_folder = fetch_output_from_run_id(run_id='40f67d87-dd14-485c-8a67-acd7d797c77a',\n",
    "                                        data_to_fetch='model_pipeline',\n",
    "                                        output_dir='data\\output_folder_model')"
   ],
   "metadata": {
    "collapsed": false
   }
  }
 ],
 "metadata": {
  "kernelspec": {
   "display_name": ".venv",
   "language": "python",
   "name": "python3"
  },
  "language_info": {
   "codemirror_mode": {
    "name": "ipython",
    "version": 3
   },
   "file_extension": ".py",
   "mimetype": "text/x-python",
   "name": "python",
   "nbconvert_exporter": "python",
   "pygments_lexer": "ipython3",
   "version": "3.8.11"
  }
 },
 "nbformat": 4,
 "nbformat_minor": 5
}
